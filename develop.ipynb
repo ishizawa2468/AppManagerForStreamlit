{
 "cells": [
  {
   "cell_type": "code",
   "id": "initial_id",
   "metadata": {
    "collapsed": true,
    "ExecuteTime": {
     "end_time": "2025-03-18T00:05:33.538337Z",
     "start_time": "2025-03-18T00:05:32.505453Z"
    }
   },
   "source": [
    "# ライブラリのimport\n",
    "import subprocess\n",
    "import platform\n",
    "import pandas as pd"
   ],
   "outputs": [],
   "execution_count": 1
  },
  {
   "metadata": {
    "ExecuteTime": {
     "end_time": "2025-03-18T00:05:33.550690Z",
     "start_time": "2025-03-18T00:05:33.545614Z"
    }
   },
   "cell_type": "code",
   "source": [
    "# 設定変数のimport\n",
    "from config import OS, APPS, BASE_PORT, ALL_PORT_RANGE\n",
    "from os_utils import run_command, get_port_search_command, get_process_details"
   ],
   "id": "4f6f007e7000ca34",
   "outputs": [],
   "execution_count": 2
  },
  {
   "metadata": {
    "ExecuteTime": {
     "end_time": "2025-03-18T00:05:33.561299Z",
     "start_time": "2025-03-18T00:05:33.556962Z"
    }
   },
   "cell_type": "code",
   "source": [
    "# OSの確認\n",
    "OS"
   ],
   "id": "5c2c8cb6a24c4cda",
   "outputs": [
    {
     "data": {
      "text/plain": [
       "'Darwin'"
      ]
     },
     "execution_count": 3,
     "metadata": {},
     "output_type": "execute_result"
    }
   ],
   "execution_count": 3
  },
  {
   "metadata": {},
   "cell_type": "markdown",
   "source": "# 起動プロセスの取得",
   "id": "b11126503eaf5e11"
  },
  {
   "metadata": {
    "ExecuteTime": {
     "end_time": "2025-03-18T00:05:33.641223Z",
     "start_time": "2025-03-18T00:05:33.639713Z"
    }
   },
   "cell_type": "code",
   "source": [
    "# 調べるポートを設定。実際はforで供給される\n",
    "\n",
    "# アプリ起動済みport\n",
    "# 事前にstreamlit run {app} --server.port=8501などで起動しておく\n",
    "running_port = 8501\n",
    "\n",
    "# 起動していないport\n",
    "not_running_port = 8510"
   ],
   "id": "c6b0c608da0d7ecc",
   "outputs": [],
   "execution_count": 4
  },
  {
   "metadata": {
    "ExecuteTime": {
     "end_time": "2025-03-18T00:05:33.726117Z",
     "start_time": "2025-03-18T00:05:33.647881Z"
    }
   },
   "cell_type": "code",
   "source": [
    "# OSに依存せずportを調べる処理\n",
    "search_command = get_port_search_command(port=running_port)\n",
    "search_output = run_command(search_command)\n",
    "\n",
    "def shape_to_dataframe(search_output: str) -> pd.DataFrame:\n",
    "    # ヘッダー: 1次元のリスト\n",
    "    header = search_output.split(\"\\n\")[0].split()\n",
    "    # 要素: 2次元のリスト\n",
    "    lines = list(map(\n",
    "        lambda line: line.split(maxsplit=len(header)-1),\n",
    "        search_output.split(\"\\n\")[1:]\n",
    "    ))\n",
    "    # dfにして返す\n",
    "    return pd.DataFrame(\n",
    "        lines,\n",
    "        columns=header\n",
    "    )\n",
    "\n",
    "port_search_result = shape_to_dataframe(search_output)"
   ],
   "id": "5309cfca88a1011",
   "outputs": [],
   "execution_count": 5
  },
  {
   "metadata": {
    "ExecuteTime": {
     "end_time": "2025-03-18T00:05:33.736658Z",
     "start_time": "2025-03-18T00:05:33.733471Z"
    }
   },
   "cell_type": "code",
   "source": [
    "# ユニークな要素をカンマ区切りでまとめる関数\n",
    "def summarize_unique_values(df) -> pd.DataFrame:\n",
    "    merged_data = {}\n",
    "    for col in df.columns:\n",
    "        unique_values = set(df[col])  # ユニークな値を取得\n",
    "        unique_values.discard(None)  # None（欠損値）は除外\n",
    "        merged_data[col] = \", \".join(unique_values)  # カンマ区切りで結合\n",
    "    return pd.DataFrame([merged_data])  # 1行のDataFrameとして返す\n",
    "\n",
    "slim_result = summarize_unique_values(port_search_result)"
   ],
   "id": "c719be063fe9bd20",
   "outputs": [],
   "execution_count": 6
  },
  {
   "metadata": {
    "ExecuteTime": {
     "end_time": "2025-03-18T00:05:33.746909Z",
     "start_time": "2025-03-18T00:05:33.742333Z"
    }
   },
   "cell_type": "code",
   "source": [
    "def extract_app_name(process_output: str) -> str:\n",
    "    \"\"\"\n",
    "    プロセスの詳細情報からアプリ名を抽出\n",
    "    \"\"\"\n",
    "    # Google Chrome\n",
    "    if \"Google Chrome\" in process_output:\n",
    "        return \"Google Chrome\"\n",
    "    # Safari\n",
    "    if \"Safari\" in process_output:\n",
    "        return \"Safari\"\n",
    "    # Streamlit アプリ\n",
    "    if \"streamlit run\" in process_output:\n",
    "        for app, info in APPS.items():\n",
    "            if info[\"path\"] in process_output:\n",
    "                return app\n",
    "        return \"Streamlit App\"  # どのアプリにも一致しない場合\n",
    "\n",
    "    return \"Unknown\"\n",
    "\n",
    "def add_extracted_app_name(df):\n",
    "    \"\"\"DataFrame にアプリ名情報を追加\"\"\"\n",
    "    if \"PID\" not in df.columns:\n",
    "        return df  # PID カラムがない場合はそのまま返す\n",
    "\n",
    "    pids = df[\"PID\"].iloc[0].split(\", \")  # PID をリスト化\n",
    "    app_names = [extract_app_name(get_process_details(pid.strip())) for pid in pids if pid.strip().isdigit()]\n",
    "\n",
    "    df[\"APP_NAME\"] = \", \".join(set(app_names)) if app_names else \"Unknown\"\n",
    "    return df\n",
    "\n",
    "port_result = add_extracted_app_name(slim_result)"
   ],
   "id": "432d07660f0705dd",
   "outputs": [],
   "execution_count": 7
  },
  {
   "metadata": {
    "ExecuteTime": {
     "end_time": "2025-03-18T00:05:33.756830Z",
     "start_time": "2025-03-18T00:05:33.753841Z"
    }
   },
   "cell_type": "code",
   "source": [
    "# 結果を出力\n",
    "print(\"-- search_output --\")\n",
    "print(search_output)\n",
    "print(\"\\n-- processed --\")\n",
    "# 以下はメソッドに切り出したのでコメントアウト\n",
    "# print(\"header size:\", len(header))\n",
    "# print(header)\n",
    "print(\"\\n-- converted to dataframe --\")\n",
    "print(port_search_result)\n",
    "print(\"\\n-- omit duplicates --\")\n",
    "print(slim_result)\n",
    "print(\"\\n-- details --\")\n",
    "print(port_result)\n"
   ],
   "id": "306da98aa674d220",
   "outputs": [
    {
     "name": "stdout",
     "output_type": "stream",
     "text": [
      "-- search_output --\n",
      "\n",
      "\n",
      "-- processed --\n",
      "\n",
      "-- converted to dataframe --\n",
      "Empty DataFrame\n",
      "Columns: []\n",
      "Index: []\n",
      "\n",
      "-- omit duplicates --\n",
      "Empty DataFrame\n",
      "Columns: []\n",
      "Index: [0]\n",
      "\n",
      "-- details --\n",
      "Empty DataFrame\n",
      "Columns: []\n",
      "Index: [0]\n"
     ]
    }
   ],
   "execution_count": 8
  },
  {
   "metadata": {
    "ExecuteTime": {
     "end_time": "2025-03-18T00:05:33.780033Z",
     "start_time": "2025-03-18T00:05:33.774897Z"
    }
   },
   "cell_type": "code",
   "source": "slim_result",
   "id": "ed1588c525776117",
   "outputs": [
    {
     "data": {
      "text/plain": [
       "Empty DataFrame\n",
       "Columns: []\n",
       "Index: [0]"
      ],
      "text/html": [
       "<div>\n",
       "<style scoped>\n",
       "    .dataframe tbody tr th:only-of-type {\n",
       "        vertical-align: middle;\n",
       "    }\n",
       "\n",
       "    .dataframe tbody tr th {\n",
       "        vertical-align: top;\n",
       "    }\n",
       "\n",
       "    .dataframe thead th {\n",
       "        text-align: right;\n",
       "    }\n",
       "</style>\n",
       "<table border=\"1\" class=\"dataframe\">\n",
       "  <thead>\n",
       "    <tr style=\"text-align: right;\">\n",
       "      <th></th>\n",
       "    </tr>\n",
       "  </thead>\n",
       "  <tbody>\n",
       "    <tr>\n",
       "      <th>0</th>\n",
       "    </tr>\n",
       "  </tbody>\n",
       "</table>\n",
       "</div>"
      ]
     },
     "execution_count": 9,
     "metadata": {},
     "output_type": "execute_result"
    }
   ],
   "execution_count": 9
  },
  {
   "metadata": {
    "ExecuteTime": {
     "end_time": "2025-03-18T00:05:33.817452Z",
     "start_time": "2025-03-18T00:05:33.813714Z"
    }
   },
   "cell_type": "code",
   "source": "port_result",
   "id": "387a9f6e0376e569",
   "outputs": [
    {
     "data": {
      "text/plain": [
       "Empty DataFrame\n",
       "Columns: []\n",
       "Index: [0]"
      ],
      "text/html": [
       "<div>\n",
       "<style scoped>\n",
       "    .dataframe tbody tr th:only-of-type {\n",
       "        vertical-align: middle;\n",
       "    }\n",
       "\n",
       "    .dataframe tbody tr th {\n",
       "        vertical-align: top;\n",
       "    }\n",
       "\n",
       "    .dataframe thead th {\n",
       "        text-align: right;\n",
       "    }\n",
       "</style>\n",
       "<table border=\"1\" class=\"dataframe\">\n",
       "  <thead>\n",
       "    <tr style=\"text-align: right;\">\n",
       "      <th></th>\n",
       "    </tr>\n",
       "  </thead>\n",
       "  <tbody>\n",
       "    <tr>\n",
       "      <th>0</th>\n",
       "    </tr>\n",
       "  </tbody>\n",
       "</table>\n",
       "</div>"
      ]
     },
     "execution_count": 10,
     "metadata": {},
     "output_type": "execute_result"
    }
   ],
   "execution_count": 10
  },
  {
   "metadata": {
    "ExecuteTime": {
     "end_time": "2025-03-18T00:05:33.862139Z",
     "start_time": "2025-03-18T00:05:33.860562Z"
    }
   },
   "cell_type": "code",
   "source": "",
   "id": "6685aede3265b06",
   "outputs": [],
   "execution_count": null
  }
 ],
 "metadata": {
  "kernelspec": {
   "display_name": "Python 3",
   "language": "python",
   "name": "python3"
  },
  "language_info": {
   "codemirror_mode": {
    "name": "ipython",
    "version": 2
   },
   "file_extension": ".py",
   "mimetype": "text/x-python",
   "name": "python",
   "nbconvert_exporter": "python",
   "pygments_lexer": "ipython2",
   "version": "2.7.6"
  }
 },
 "nbformat": 4,
 "nbformat_minor": 5
}
