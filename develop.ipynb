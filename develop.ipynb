{
 "cells": [
  {
   "cell_type": "code",
   "id": "initial_id",
   "metadata": {
    "collapsed": true,
    "ExecuteTime": {
     "end_time": "2025-03-08T09:23:11.263293Z",
     "start_time": "2025-03-08T09:23:10.806566Z"
    }
   },
   "source": [
    "# ライブラリのimport\n",
    "import subprocess\n",
    "import platform\n",
    "import pandas as pd"
   ],
   "outputs": [],
   "execution_count": 1
  },
  {
   "metadata": {
    "ExecuteTime": {
     "end_time": "2025-03-08T09:23:11.274498Z",
     "start_time": "2025-03-08T09:23:11.269758Z"
    }
   },
   "cell_type": "code",
   "source": [
    "# 設定変数のimport\n",
    "from config import OS, APPS, BASE_PORT, ALL_PORT_RANGE\n",
    "from os_utils import run_command, get_port_search_command, get_process_details"
   ],
   "id": "4f6f007e7000ca34",
   "outputs": [],
   "execution_count": 2
  },
  {
   "metadata": {
    "ExecuteTime": {
     "end_time": "2025-03-08T09:23:11.285545Z",
     "start_time": "2025-03-08T09:23:11.281636Z"
    }
   },
   "cell_type": "code",
   "source": [
    "# OSの確認\n",
    "OS"
   ],
   "id": "5c2c8cb6a24c4cda",
   "outputs": [
    {
     "data": {
      "text/plain": [
       "'Darwin'"
      ]
     },
     "execution_count": 3,
     "metadata": {},
     "output_type": "execute_result"
    }
   ],
   "execution_count": 3
  },
  {
   "metadata": {},
   "cell_type": "markdown",
   "source": "# 起動プロセスの取得",
   "id": "b11126503eaf5e11"
  },
  {
   "metadata": {
    "ExecuteTime": {
     "end_time": "2025-03-08T09:23:11.366080Z",
     "start_time": "2025-03-08T09:23:11.364388Z"
    }
   },
   "cell_type": "code",
   "source": [
    "# 調べるポートを設定。実際はforで供給される\n",
    "\n",
    "# アプリ起動済みport\n",
    "# 事前にstreamlit run {app} --server.port=8501などで起動しておく\n",
    "running_port = 8501\n",
    "\n",
    "# 起動していないport\n",
    "not_running_port = 8510"
   ],
   "id": "c6b0c608da0d7ecc",
   "outputs": [],
   "execution_count": 4
  },
  {
   "metadata": {
    "ExecuteTime": {
     "end_time": "2025-03-08T09:23:11.451548Z",
     "start_time": "2025-03-08T09:23:11.373170Z"
    }
   },
   "cell_type": "code",
   "source": [
    "# OSに依存せずportを調べる処理\n",
    "search_command = get_port_search_command(port=running_port)\n",
    "search_output = run_command(search_command)\n",
    "\n",
    "def shape_to_dataframe(search_output: str) -> pd.DataFrame:\n",
    "    # ヘッダー: 1次元のリスト\n",
    "    header = search_output.split(\"\\n\")[0].split()\n",
    "    # 要素: 2次元のリスト\n",
    "    lines = list(map(\n",
    "        lambda line: line.split(maxsplit=len(header)-1),\n",
    "        search_output.split(\"\\n\")[1:]\n",
    "    ))\n",
    "    # dfにして返す\n",
    "    return pd.DataFrame(\n",
    "        lines,\n",
    "        columns=header\n",
    "    )\n",
    "\n",
    "port_search_result = shape_to_dataframe(search_output)"
   ],
   "id": "5309cfca88a1011",
   "outputs": [],
   "execution_count": 5
  },
  {
   "metadata": {
    "ExecuteTime": {
     "end_time": "2025-03-08T09:23:11.466038Z",
     "start_time": "2025-03-08T09:23:11.461403Z"
    }
   },
   "cell_type": "code",
   "source": [
    "# ユニークな要素をカンマ区切りでまとめる関数\n",
    "def summarize_unique_values(df) -> pd.DataFrame:\n",
    "    merged_data = {}\n",
    "    for col in df.columns:\n",
    "        unique_values = set(df[col])  # ユニークな値を取得\n",
    "        unique_values.discard(None)  # None（欠損値）は除外\n",
    "        merged_data[col] = \", \".join(unique_values)  # カンマ区切りで結合\n",
    "    return pd.DataFrame([merged_data])  # 1行のDataFrameとして返す\n",
    "\n",
    "slim_result = summarize_unique_values(port_search_result)"
   ],
   "id": "c719be063fe9bd20",
   "outputs": [],
   "execution_count": 6
  },
  {
   "metadata": {
    "ExecuteTime": {
     "end_time": "2025-03-08T09:23:11.525172Z",
     "start_time": "2025-03-08T09:23:11.473606Z"
    }
   },
   "cell_type": "code",
   "source": [
    "def extract_app_name(process_output: str) -> str:\n",
    "    \"\"\"\n",
    "    プロセスの詳細情報からアプリ名を抽出\n",
    "    \"\"\"\n",
    "    # Google Chrome\n",
    "    if \"Google Chrome\" in process_output:\n",
    "        return \"Google Chrome\"\n",
    "    # Safari\n",
    "    if \"Safari\" in process_output:\n",
    "        return \"Safari\"\n",
    "    # Streamlit アプリ\n",
    "    if \"streamlit run\" in process_output:\n",
    "        for app, info in APPS.items():\n",
    "            if info[\"path\"] in process_output:\n",
    "                return app\n",
    "        return \"Streamlit App\"  # どのアプリにも一致しない場合\n",
    "\n",
    "    return \"Unknown\"\n",
    "\n",
    "def add_extracted_app_name(df):\n",
    "    \"\"\"DataFrame にアプリ名情報を追加\"\"\"\n",
    "    if \"PID\" not in df.columns:\n",
    "        return df  # PID カラムがない場合はそのまま返す\n",
    "\n",
    "    pids = df[\"PID\"].iloc[0].split(\", \")  # PID をリスト化\n",
    "    app_names = [extract_app_name(get_process_details(pid.strip())) for pid in pids if pid.strip().isdigit()]\n",
    "\n",
    "    df[\"APP_NAME\"] = \", \".join(set(app_names)) if app_names else \"Unknown\"\n",
    "    return df\n",
    "\n",
    "port_result = add_extracted_app_name(slim_result)"
   ],
   "id": "432d07660f0705dd",
   "outputs": [],
   "execution_count": 7
  },
  {
   "metadata": {
    "ExecuteTime": {
     "end_time": "2025-03-08T09:23:11.541425Z",
     "start_time": "2025-03-08T09:23:11.535307Z"
    }
   },
   "cell_type": "code",
   "source": [
    "# 結果を出力\n",
    "print(\"-- search_output --\")\n",
    "print(search_output)\n",
    "print(\"\\n-- processed --\")\n",
    "# 以下はメソッドに切り出したのでコメントアウト\n",
    "# print(\"header size:\", len(header))\n",
    "# print(header)\n",
    "print(\"\\n-- converted to dataframe --\")\n",
    "print(port_search_result)\n",
    "print(\"\\n-- omit duplicates --\")\n",
    "print(slim_result)\n",
    "print(\"\\n-- details --\")\n",
    "print(port_result)\n"
   ],
   "id": "306da98aa674d220",
   "outputs": [
    {
     "name": "stdout",
     "output_type": "stream",
     "text": [
      "-- search_output --\n",
      "COMMAND     PID          USER   FD   TYPE             DEVICE SIZE/OFF NODE NAME\n",
      "Google     1509 ishizawaosamu   23u  IPv6 0x1c02787ab661ddbb      0t0  TCP localhost:53496->localhost:8501 (ESTABLISHED)\n",
      "Python    29378 ishizawaosamu    7u  IPv4 0xf401f6fffbcd207f      0t0  TCP *:8501 (LISTEN)\n",
      "Python    29378 ishizawaosamu    8u  IPv6 0xc3413d8bec6a9e9d      0t0  TCP *:8501 (LISTEN)\n",
      "Python    29378 ishizawaosamu   11u  IPv6 0xcd43b5bda2ba2a69      0t0  TCP localhost:8501->localhost:53496 (ESTABLISHED)\n",
      "\n",
      "-- processed --\n",
      "\n",
      "-- converted to dataframe --\n",
      "  COMMAND    PID           USER   FD  TYPE              DEVICE SIZE/OFF NODE  \\\n",
      "0  Google   1509  ishizawaosamu  23u  IPv6  0x1c02787ab661ddbb      0t0  TCP   \n",
      "1  Python  29378  ishizawaosamu   7u  IPv4  0xf401f6fffbcd207f      0t0  TCP   \n",
      "2  Python  29378  ishizawaosamu   8u  IPv6  0xc3413d8bec6a9e9d      0t0  TCP   \n",
      "3  Python  29378  ishizawaosamu  11u  IPv6  0xcd43b5bda2ba2a69      0t0  TCP   \n",
      "\n",
      "                                            NAME  \n",
      "0  localhost:53496->localhost:8501 (ESTABLISHED)  \n",
      "1                                *:8501 (LISTEN)  \n",
      "2                                *:8501 (LISTEN)  \n",
      "3  localhost:8501->localhost:53496 (ESTABLISHED)  \n",
      "\n",
      "-- omit duplicates --\n",
      "          COMMAND          PID           USER                FD        TYPE  \\\n",
      "0  Google, Python  29378, 1509  ishizawaosamu  8u, 11u, 23u, 7u  IPv4, IPv6   \n",
      "\n",
      "                                              DEVICE SIZE/OFF NODE  \\\n",
      "0  0xc3413d8bec6a9e9d, 0xcd43b5bda2ba2a69, 0x1c02...      0t0  TCP   \n",
      "\n",
      "                                                NAME  \\\n",
      "0  *:8501 (LISTEN), localhost:53496->localhost:85...   \n",
      "\n",
      "                              APP_NAME  \n",
      "0  Google Chrome, PlanckThermoEmulator  \n",
      "\n",
      "-- details --\n",
      "          COMMAND          PID           USER                FD        TYPE  \\\n",
      "0  Google, Python  29378, 1509  ishizawaosamu  8u, 11u, 23u, 7u  IPv4, IPv6   \n",
      "\n",
      "                                              DEVICE SIZE/OFF NODE  \\\n",
      "0  0xc3413d8bec6a9e9d, 0xcd43b5bda2ba2a69, 0x1c02...      0t0  TCP   \n",
      "\n",
      "                                                NAME  \\\n",
      "0  *:8501 (LISTEN), localhost:53496->localhost:85...   \n",
      "\n",
      "                              APP_NAME  \n",
      "0  Google Chrome, PlanckThermoEmulator  \n"
     ]
    }
   ],
   "execution_count": 8
  },
  {
   "metadata": {
    "ExecuteTime": {
     "end_time": "2025-03-08T09:23:11.563820Z",
     "start_time": "2025-03-08T09:23:11.557842Z"
    }
   },
   "cell_type": "code",
   "source": "slim_result",
   "id": "ed1588c525776117",
   "outputs": [
    {
     "data": {
      "text/plain": [
       "          COMMAND          PID           USER                FD        TYPE  \\\n",
       "0  Google, Python  29378, 1509  ishizawaosamu  8u, 11u, 23u, 7u  IPv4, IPv6   \n",
       "\n",
       "                                              DEVICE SIZE/OFF NODE  \\\n",
       "0  0xc3413d8bec6a9e9d, 0xcd43b5bda2ba2a69, 0x1c02...      0t0  TCP   \n",
       "\n",
       "                                                NAME  \\\n",
       "0  *:8501 (LISTEN), localhost:53496->localhost:85...   \n",
       "\n",
       "                              APP_NAME  \n",
       "0  Google Chrome, PlanckThermoEmulator  "
      ],
      "text/html": [
       "<div>\n",
       "<style scoped>\n",
       "    .dataframe tbody tr th:only-of-type {\n",
       "        vertical-align: middle;\n",
       "    }\n",
       "\n",
       "    .dataframe tbody tr th {\n",
       "        vertical-align: top;\n",
       "    }\n",
       "\n",
       "    .dataframe thead th {\n",
       "        text-align: right;\n",
       "    }\n",
       "</style>\n",
       "<table border=\"1\" class=\"dataframe\">\n",
       "  <thead>\n",
       "    <tr style=\"text-align: right;\">\n",
       "      <th></th>\n",
       "      <th>COMMAND</th>\n",
       "      <th>PID</th>\n",
       "      <th>USER</th>\n",
       "      <th>FD</th>\n",
       "      <th>TYPE</th>\n",
       "      <th>DEVICE</th>\n",
       "      <th>SIZE/OFF</th>\n",
       "      <th>NODE</th>\n",
       "      <th>NAME</th>\n",
       "      <th>APP_NAME</th>\n",
       "    </tr>\n",
       "  </thead>\n",
       "  <tbody>\n",
       "    <tr>\n",
       "      <th>0</th>\n",
       "      <td>Google, Python</td>\n",
       "      <td>29378, 1509</td>\n",
       "      <td>ishizawaosamu</td>\n",
       "      <td>8u, 11u, 23u, 7u</td>\n",
       "      <td>IPv4, IPv6</td>\n",
       "      <td>0xc3413d8bec6a9e9d, 0xcd43b5bda2ba2a69, 0x1c02...</td>\n",
       "      <td>0t0</td>\n",
       "      <td>TCP</td>\n",
       "      <td>*:8501 (LISTEN), localhost:53496-&gt;localhost:85...</td>\n",
       "      <td>Google Chrome, PlanckThermoEmulator</td>\n",
       "    </tr>\n",
       "  </tbody>\n",
       "</table>\n",
       "</div>"
      ]
     },
     "execution_count": 9,
     "metadata": {},
     "output_type": "execute_result"
    }
   ],
   "execution_count": 9
  },
  {
   "metadata": {
    "ExecuteTime": {
     "end_time": "2025-03-08T09:23:11.576118Z",
     "start_time": "2025-03-08T09:23:11.571159Z"
    }
   },
   "cell_type": "code",
   "source": "port_result",
   "id": "387a9f6e0376e569",
   "outputs": [
    {
     "data": {
      "text/plain": [
       "          COMMAND          PID           USER                FD        TYPE  \\\n",
       "0  Google, Python  29378, 1509  ishizawaosamu  8u, 11u, 23u, 7u  IPv4, IPv6   \n",
       "\n",
       "                                              DEVICE SIZE/OFF NODE  \\\n",
       "0  0xc3413d8bec6a9e9d, 0xcd43b5bda2ba2a69, 0x1c02...      0t0  TCP   \n",
       "\n",
       "                                                NAME  \\\n",
       "0  *:8501 (LISTEN), localhost:53496->localhost:85...   \n",
       "\n",
       "                              APP_NAME  \n",
       "0  Google Chrome, PlanckThermoEmulator  "
      ],
      "text/html": [
       "<div>\n",
       "<style scoped>\n",
       "    .dataframe tbody tr th:only-of-type {\n",
       "        vertical-align: middle;\n",
       "    }\n",
       "\n",
       "    .dataframe tbody tr th {\n",
       "        vertical-align: top;\n",
       "    }\n",
       "\n",
       "    .dataframe thead th {\n",
       "        text-align: right;\n",
       "    }\n",
       "</style>\n",
       "<table border=\"1\" class=\"dataframe\">\n",
       "  <thead>\n",
       "    <tr style=\"text-align: right;\">\n",
       "      <th></th>\n",
       "      <th>COMMAND</th>\n",
       "      <th>PID</th>\n",
       "      <th>USER</th>\n",
       "      <th>FD</th>\n",
       "      <th>TYPE</th>\n",
       "      <th>DEVICE</th>\n",
       "      <th>SIZE/OFF</th>\n",
       "      <th>NODE</th>\n",
       "      <th>NAME</th>\n",
       "      <th>APP_NAME</th>\n",
       "    </tr>\n",
       "  </thead>\n",
       "  <tbody>\n",
       "    <tr>\n",
       "      <th>0</th>\n",
       "      <td>Google, Python</td>\n",
       "      <td>29378, 1509</td>\n",
       "      <td>ishizawaosamu</td>\n",
       "      <td>8u, 11u, 23u, 7u</td>\n",
       "      <td>IPv4, IPv6</td>\n",
       "      <td>0xc3413d8bec6a9e9d, 0xcd43b5bda2ba2a69, 0x1c02...</td>\n",
       "      <td>0t0</td>\n",
       "      <td>TCP</td>\n",
       "      <td>*:8501 (LISTEN), localhost:53496-&gt;localhost:85...</td>\n",
       "      <td>Google Chrome, PlanckThermoEmulator</td>\n",
       "    </tr>\n",
       "  </tbody>\n",
       "</table>\n",
       "</div>"
      ]
     },
     "execution_count": 10,
     "metadata": {},
     "output_type": "execute_result"
    }
   ],
   "execution_count": 10
  },
  {
   "metadata": {
    "ExecuteTime": {
     "end_time": "2025-03-08T09:23:11.601857Z",
     "start_time": "2025-03-08T09:23:11.600018Z"
    }
   },
   "cell_type": "code",
   "source": "",
   "id": "6685aede3265b06",
   "outputs": [],
   "execution_count": null
  }
 ],
 "metadata": {
  "kernelspec": {
   "display_name": "Python 3",
   "language": "python",
   "name": "python3"
  },
  "language_info": {
   "codemirror_mode": {
    "name": "ipython",
    "version": 2
   },
   "file_extension": ".py",
   "mimetype": "text/x-python",
   "name": "python",
   "nbconvert_exporter": "python",
   "pygments_lexer": "ipython2",
   "version": "2.7.6"
  }
 },
 "nbformat": 4,
 "nbformat_minor": 5
}
